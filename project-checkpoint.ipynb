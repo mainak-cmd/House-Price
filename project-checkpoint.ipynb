{
 "cells": [
  {
   "cell_type": "code",
   "execution_count": 40,
   "metadata": {},
   "outputs": [],
   "source": [
    "import pandas as pd \n",
    "import random\n",
    "import numpy as np\n",
    "from sklearn.model_selection import KFold\n",
    "from sklearn.impute import SimpleImputer\n",
    "from sklearn.preprocessing import StandardScaler,OneHotEncoder\n",
    "from sklearn import linear_model\n",
    "from sklearn.ensemble import VotingRegressor\n",
    "from sklearn.metrics import mean_squared_error\n",
    "from sklearn.decomposition import PCA\n",
    "from sklearn.feature_selection import SequentialFeatureSelector\n",
    "from sklearn.ensemble import StackingRegressor\n",
    "from sklearn.metrics import  mean_squared_log_error\n",
    "from sklearn.pipeline import Pipeline\n",
    "from sklearn import preprocessing\n",
    "from sklearn.model_selection import cross_val_score\n",
    "from mpl_toolkits import mplot3d\n",
    "import numpy as np\n"
   ]
  },
  {
   "cell_type": "markdown",
   "metadata": {},
   "source": [
    "# load dataset"
   ]
  },
  {
   "cell_type": "code",
   "execution_count": 41,
   "metadata": {},
   "outputs": [],
   "source": [
    "df = pd.read_csv('train.csv') \n",
    "df=df.drop(['Id'], axis = 1)"
   ]
  },
  {
   "cell_type": "markdown",
   "metadata": {},
   "source": [
    "# preprocessing"
   ]
  },
  {
   "cell_type": "markdown",
   "metadata": {},
   "source": [
    "remove feature haveing 50% of nun value"
   ]
  },
  {
   "cell_type": "code",
   "execution_count": 42,
   "metadata": {},
   "outputs": [],
   "source": [
    "na_count=pd.DataFrame(df.isnull().sum(),columns=['na_count'])\n",
    "colloumn_list=[]\n",
    "colloumn_list==[]\n",
    "for (row,rowdata) in na_count.iterrows():\n",
    "    if int(rowdata[\"na_count\"])> 730:\n",
    "        colloumn_list.append(row)"
   ]
  },
  {
   "cell_type": "code",
   "execution_count": 43,
   "metadata": {},
   "outputs": [
    {
     "data": {
      "text/plain": [
       "['Alley', 'PoolQC', 'Fence', 'MiscFeature']"
      ]
     },
     "execution_count": 43,
     "metadata": {},
     "output_type": "execute_result"
    }
   ],
   "source": [
    "colloumn_list"
   ]
  },
  {
   "cell_type": "code",
   "execution_count": 44,
   "metadata": {},
   "outputs": [],
   "source": [
    "df=df.drop(colloumn_list, axis = 1) # drouping unwanted features"
   ]
  },
  {
   "cell_type": "markdown",
   "metadata": {},
   "source": [
    "OneHotEncodeing of categorical value "
   ]
  },
  {
   "cell_type": "code",
   "execution_count": 45,
   "metadata": {},
   "outputs": [],
   "source": [
    "df=pd.get_dummies(df,drop_first=True)"
   ]
  },
  {
   "cell_type": "markdown",
   "metadata": {},
   "source": [
    "prepare dependent and independent feature"
   ]
  },
  {
   "cell_type": "code",
   "execution_count": 46,
   "metadata": {},
   "outputs": [],
   "source": [
    "X=df.drop(['SalePrice'],axis = 1)\n",
    "Y=pd.DataFrame(df['SalePrice'])"
   ]
  },
  {
   "cell_type": "markdown",
   "metadata": {},
   "source": [
    "correlation matrix\n",
    "A correlation coefficient is a number that denotes the strength of the relationship between two variables. A correlation matrix is a tabular data representing the ‘correlations’ between pairs of variables in a given data."
   ]
  },
  {
   "cell_type": "code",
   "execution_count": 47,
   "metadata": {},
   "outputs": [
    {
     "data": {
      "text/plain": [
       "<AxesSubplot:>"
      ]
     },
     "execution_count": 47,
     "metadata": {},
     "output_type": "execute_result"
    },
    {
     "data": {
      "image/png": "[encoded data removed]",
      "text/plain": [
       "<Figure size 792x648 with 2 Axes>"
      ]
     },
     "metadata": {
      "needs_background": "light"
     },
     "output_type": "display_data"
    }
   ],
   "source": [
    "import seaborn as sns\n",
    "\n",
    "import matplotlib.pyplot as plt\n",
    "df2 = X.iloc[:, 0:5]\n",
    "\n",
    "# Compute the correlation matrix\n",
    "corr =df2.corr()\n",
    "\n",
    "# Generate a mask for the upper triangle\n",
    "mask = np.triu(np.ones_like(corr, dtype=bool))\n",
    "\n",
    "# Set up the matplotlib figure\n",
    "f, ax = plt.subplots(figsize=(11, 9))\n",
    "\n",
    "# Generate a custom diverging colormap\n",
    "cmap = sns.diverging_palette(230, 20, as_cmap=True)\n",
    "\n",
    "# Draw the heatmap with the mask and correct aspect ratio\n",
    "sns.heatmap(corr, mask=mask, cmap=cmap, vmax=.3, center=0,\n",
    "            square=True, linewidths=.5, cbar_kws={\"shrink\": 0.5})\n",
    "\n"
   ]
  },
  {
   "cell_type": "markdown",
   "metadata": {},
   "source": [
    "There is a significant correlation between  variables, it does not mean that one is the cause of the other. Suppose we find a significant correlation between 'LotFrontage' and 'LotArea'. \n",
    "\n",
    "the findings are below that we get from the above chart\n",
    "\n",
    "We don’t know if the correlation is real.\n",
    "\n",
    "\n",
    "know the direction of the correlation (+VA) \n",
    "\n",
    " don’t know if there are a third variable at play that is actually causing the changes in 'LotFrontage' and 'LotArea'. \n",
    "\n",
    "The key point is that is impossible just from a correlation analysis to determine what causes what.can't say the cause and effect relationship between two variables simply because a correlation exists between them. \n",
    "\n",
    "do not remove any feature basis on correlation matrix To avoid information loss "
   ]
  },
  {
   "cell_type": "markdown",
   "metadata": {},
   "source": [
    "# Prepareing model"
   ]
  },
  {
   "cell_type": "markdown",
   "metadata": {},
   "source": [
    "Na imputation useing 'most_frequent' stategy"
   ]
  },
  {
   "cell_type": "code",
   "execution_count": 48,
   "metadata": {},
   "outputs": [],
   "source": [
    "Na_imputer=SimpleImputer(missing_values=np.nan, \n",
    "              strategy='most_frequent', # then replace missing using the most frequent value along each column.\n",
    "              fill_value=None,#None when imputing numerical data and “missing_value” for strings or object data types. \n",
    "              verbose=0, #Controls the verbosity of the imputer.\n",
    "              copy=False, # imputation will be done in-place whenever possible\n",
    "              add_indicator=False #a MissingIndicator transform will stack onto output of the imputer’s transform.\n",
    "             )"
   ]
  },
  {
   "cell_type": "code",
   "execution_count": 49,
   "metadata": {},
   "outputs": [],
   "source": [
    "Y=Na_imputer.fit_transform(Y)"
   ]
  },
  {
   "cell_type": "markdown",
   "metadata": {},
   "source": [
    "Principal component analysis (PCA)\n"
   ]
  },
  {
   "cell_type": "markdown",
   "metadata": {},
   "source": [
    "he fraction of variance explained by a principal component is the ratio between the variance\n",
    "of that principal component and the total variance.\n",
    "small varience indicates that datapoint vary close to mean and each other so that feature approximately constaant and do not inprove performance so we can reduce the Dimentanality\n",
    "PCA is used to decompose a multivariate dataset in a set of successive orthogonal components that explain a maximum amount of the variance. "
   ]
  },
  {
   "cell_type": "code",
   "execution_count": 50,
   "metadata": {},
   "outputs": [],
   "source": [
    "pca = PCA(n_components =100,\n",
    "          whiten=True,\n",
    "         svd_solver='arpack',\n",
    "         tol=0.0)"
   ]
  },
  {
   "cell_type": "markdown",
   "metadata": {},
   "source": [
    "Feature selection"
   ]
  },
  {
   "cell_type": "markdown",
   "metadata": {},
   "source": [
    "can be used for feature selection/dimensionality reduction on sample sets, either to improve estimators’ accuracy scores or to boost their performance on very high-dimensional datasets.\n",
    "\n",
    "Forward-SFS is a greedy procedure that iteratively finds the best new feature to add to the set of selected features. initially start with zero feature and find the one feature that maximizes a cross-validated score when an estimator is trained on this single feature. Once that first feature is selected, we repeat the procedure by adding a new feature to the set of selected features. The procedure stops when the desired number of selected features is reached, as determined by the n_features_to_select parameter.\n",
    "useing linear model to select  feature"
   ]
  },
  {
   "cell_type": "code",
   "execution_count": 51,
   "metadata": {},
   "outputs": [],
   "source": [
    "#Ordinary least squares Linear Regression.\n",
    "LR=linear_model.LinearRegression(fit_intercept=True,\n",
    "                 normalize=True, \n",
    "                 copy_X=True, \n",
    "                 n_jobs=None, \n",
    "                 positive=False)\n"
   ]
  },
  {
   "cell_type": "code",
   "execution_count": 52,
   "metadata": {},
   "outputs": [],
   "source": [
    "feature_La=SequentialFeatureSelector(LR,#An unfitted estimator.\n",
    "                          n_features_to_select=None, #half of the features are selected. \n",
    "                          direction='forward', #Whether to perform forward selection or backward selection.\n",
    "                          scoring=None,#the estimator’s score method is used.\n",
    "                          cv=5, # 5-fold cross validation,\n",
    "                          n_jobs=None #Number of jobs to run in parallel.\n",
    "                         )\n"
   ]
  },
  {
   "cell_type": "code",
   "execution_count": 53,
   "metadata": {},
   "outputs": [],
   "source": [
    "preprocess = Pipeline([('na_imputation',Na_imputer),('PCA',pca),\n",
    "  ('feature_selection',feature_La)\n",
    "])"
   ]
  },
  {
   "cell_type": "markdown",
   "metadata": {},
   "source": [
    "Models"
   ]
  },
  {
   "cell_type": "markdown",
   "metadata": {},
   "source": [
    "Linear regression with combined L1 and L2 priors as regularizer."
   ]
  },
  {
   "cell_type": "code",
   "execution_count": 54,
   "metadata": {},
   "outputs": [],
   "source": [
    "EL=linear_model.ElasticNet(alpha=0.5, l1_ratio=0.8, fit_intercept=True, normalize=True)"
   ]
  },
  {
   "cell_type": "code",
   "execution_count": 55,
   "metadata": {},
   "outputs": [],
   "source": [
    "LR=linear_model.LinearRegression(fit_intercept=True,\n",
    "                 normalize=True, \n",
    "                 copy_X=True, \n",
    "                 n_jobs=None, \n",
    "                 positive=False)"
   ]
  },
  {
   "cell_type": "markdown",
   "metadata": {},
   "source": [
    "Pipeline to combine fearture selection stategy and model together "
   ]
  },
  {
   "cell_type": "code",
   "execution_count": 56,
   "metadata": {},
   "outputs": [],
   "source": [
    "\n",
    "\n",
    "#Linear regression with combined L1 and L2 priors as regularizer.\n",
    "M_2 = Pipeline([('na_imputation',Na_imputer),('PCA',pca),\n",
    "  ('feature_selection',feature_La),\n",
    "  ('model',EL)\n",
    "])\n",
    "\n",
    "#OLR\n",
    "M_3=Pipeline([('na_imputation',Na_imputer),('PCA',pca),\n",
    "  ('feature_selection',feature_La),\n",
    "  ('model',LR)\n",
    "])\n"
   ]
  },
  {
   "cell_type": "markdown",
   "metadata": {},
   "source": [
    "# validation of models"
   ]
  },
  {
   "cell_type": "code",
   "execution_count": 73,
   "metadata": {},
   "outputs": [],
   "source": [
    "kfold_validation=KFold(7)"
   ]
  },
  {
   "cell_type": "code",
   "execution_count": 74,
   "metadata": {},
   "outputs": [],
   "source": [
    "results_1=cross_val_score(M_2,X,Y,cv=kfold_validation)"
   ]
  },
  {
   "cell_type": "code",
   "execution_count": null,
   "metadata": {},
   "outputs": [],
   "source": [
    "results_2=cross_val_score(M_3,X,Y,cv=kfold_validation)"
   ]
  },
  {
   "cell_type": "markdown",
   "metadata": {},
   "source": [
    "determine R2 as cross validation score\n",
    "\n",
    "R-squared (R2) is a statistical measure that represents the proportion of the variance for a dependent variable that's explained by an independent variable or variables in a regression model.\n"
   ]
  },
  {
   "cell_type": "code",
   "execution_count": null,
   "metadata": {},
   "outputs": [],
   "source": [
    "print(\" R2 OF M_2 \",np.mean(results_1),\" R2 OF M_3 \",np.mean(results_2))"
   ]
  },
  {
   "cell_type": "markdown",
   "metadata": {},
   "source": [
    "Researchers suggests that this value must be equal to or greater than 0.19.\n",
    "\n",
    "Thus M_3 is  good predictor but M_2 models are not capable to achive desire value and penalize the model to prevent overfit\n",
    "so To prepare final model we can use M_2 and M_3 and combine them by useing voteingRegressor ."
   ]
  },
  {
   "cell_type": "markdown",
   "metadata": {},
   "source": [
    "# Final model"
   ]
  },
  {
   "cell_type": "code",
   "execution_count": null,
   "metadata": {},
   "outputs": [],
   "source": [
    "estimators2=[('W_1',M_2), ('W_2',M_3)]"
   ]
  },
  {
   "cell_type": "markdown",
   "metadata": {},
   "source": [
    "voteing  regression use to prevent overfitting"
   ]
  },
  {
   "cell_type": "code",
   "execution_count": null,
   "metadata": {},
   "outputs": [],
   "source": [
    "vr=VotingRegressor(estimators=estimators2, weights=None, n_jobs=None, verbose=False)"
   ]
  },
  {
   "cell_type": "code",
   "execution_count": null,
   "metadata": {},
   "outputs": [],
   "source": [
    "results_1=cross_val_score(M_2,X,Y,cv=kfold_validation)"
   ]
  },
  {
   "cell_type": "code",
   "execution_count": null,
   "metadata": {},
   "outputs": [],
   "source": [
    "print(\" R2 OF M_2 \",np.mean(results_1))"
   ]
  },
  {
   "cell_type": "code",
   "execution_count": 68,
   "metadata": {},
   "outputs": [
    {
     "name": "stderr",
     "output_type": "stream",
     "text": [
      "C:\\Users\\USER\\AppData\\Local\\Programs\\Python\\Python38\\lib\\site-packages\\sklearn\\utils\\validation.py:63: DataConversionWarning: A column-vector y was passed when a 1d array was expected. Please change the shape of y to (n_samples, ), for example using ravel().\n",
      "  return f(*args, **kwargs)\n"
     ]
    }
   ],
   "source": [
    "model_final=vr.fit(X,Y)"
   ]
  },
  {
   "cell_type": "code",
   "execution_count": 69,
   "metadata": {},
   "outputs": [],
   "source": [
    "Y_pre=model_final.predict(X)"
   ]
  },
  {
   "cell_type": "code",
   "execution_count": 71,
   "metadata": {},
   "outputs": [
    {
     "data": {
      "text/plain": [
       "array([0.05584115])"
      ]
     },
     "execution_count": 71,
     "metadata": {},
     "output_type": "execute_result"
    }
   ],
   "source": [
    "mean_squared_log_error(Y,Y_pre, multioutput='raw_values')"
   ]
  },
  {
   "cell_type": "code",
   "execution_count": 72,
   "metadata": {},
   "outputs": [
    {
     "data": {
      "text/plain": [
       "['model_final.joblib']"
      ]
     },
     "execution_count": 72,
     "metadata": {},
     "output_type": "execute_result"
    }
   ],
   "source": [
    "from joblib import dump, load\n",
    "dump(model_final, 'model_final.joblib') \n",
    "\n",
    "\n",
    "\n"
   ]
  },
  {
   "cell_type": "code",
   "execution_count": null,
   "metadata": {},
   "outputs": [],
   "source": []
  }
 ],
 "metadata": {
  "kernelspec": {
   "display_name": "Python 3.8.2 64-bit",
   "language": "python",
   "name": "python38264bit3cc16507011a48e5ad6af447e61a847b"
  },
  "language_info": {
   "codemirror_mode": {
    "name": "ipython",
    "version": 3
   },
   "file_extension": ".py",
   "mimetype": "text/x-python",
   "name": "python",
   "nbconvert_exporter": "python",
   "pygments_lexer": "ipython3",
   "version": "3.8.2"
  }
 },
 "nbformat": 4,
 "nbformat_minor": 4
}
